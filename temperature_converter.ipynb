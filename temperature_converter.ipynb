{
 "cells": [
  {
   "cell_type": "markdown",
   "metadata": {},
   "source": [
    "Exercise 1: Temperature Converter\n",
    "\n",
    "Create a program that converts temperatures between Celsius and Fahrenheit."
   ]
  },
  {
   "cell_type": "code",
   "execution_count": 4,
   "metadata": {},
   "outputs": [
    {
     "name": "stdout",
     "output_type": "stream",
     "text": [
      "Temperature must be a number.\n",
      "Please choose from the given options.\n",
      " 19.44 degrees Celsius\n"
     ]
    }
   ],
   "source": [
    "while True:\n",
    "    try:\n",
    "        temperature = float(input(\"Please enter temperature: \"))\n",
    "        break\n",
    "    except ValueError:\n",
    "        print(\"Temperature must be a number.\")\n",
    "\n",
    "while True:\n",
    "    conversion = input(\"Enter 'F' if you wish to convert Celsius to Fahrenheit and 'C' to convert Fahrenheit to Celsius\").lower()\n",
    "    options = [\"f\", \"c\"]\n",
    "\n",
    "    if conversion not in options:\n",
    "        print(\"Please choose from the given options.\") \n",
    "    else:\n",
    "        break  \n",
    "\n",
    "if conversion == \"f\":\n",
    "    converted_temperature = (temperature * (9/5)) + 32\n",
    "    print(f\"{converted_temperature: .2f} degrees Fahrenheit\")\n",
    "elif conversion == \"c\":\n",
    "    converted_temperature = (temperature - 32)*(5/9)\n",
    "    print(f\"{converted_temperature: .2f} degrees Celsius\")"
   ]
  }
 ],
 "metadata": {
  "kernelspec": {
   "display_name": "Python 3",
   "language": "python",
   "name": "python3"
  },
  "language_info": {
   "codemirror_mode": {
    "name": "ipython",
    "version": 3
   },
   "file_extension": ".py",
   "mimetype": "text/x-python",
   "name": "python",
   "nbconvert_exporter": "python",
   "pygments_lexer": "ipython3",
   "version": "3.12.0"
  }
 },
 "nbformat": 4,
 "nbformat_minor": 2
}
